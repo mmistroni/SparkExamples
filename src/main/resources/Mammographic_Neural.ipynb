{
 "cells": [
  {
   "cell_type": "markdown",
   "metadata": {},
   "source": [
    "This is a sample notebook to try out TensorFlow on mammograhpic data\n"
   ]
  },
  {
   "cell_type": "code",
   "execution_count": 2,
   "metadata": {},
   "outputs": [
    {
     "name": "stdout",
     "output_type": "stream",
     "text": [
      "<class 'pandas.core.frame.DataFrame'>\n",
      "RangeIndex: 960 entries, 0 to 959\n",
      "Data columns (total 6 columns):\n",
      "5      960 non-null object\n",
      "67     960 non-null object\n",
      "3      960 non-null object\n",
      "5.1    960 non-null object\n",
      "3.1    960 non-null object\n",
      "1      960 non-null int64\n",
      "dtypes: int64(1), object(5)\n",
      "memory usage: 45.1+ KB\n"
     ]
    }
   ],
   "source": [
    "import tensorflow as tf\n",
    "import pandas as pd\n",
    "\n",
    "def cleanup():\n",
    "    pass\n",
    "\n",
    "def read_as_pandas_df():\n",
    "    # Persisting a csv via pandas\n",
    "    originalDf = pd.read_csv('/root/data/mammographic.txt')\n",
    "    cleanedUp = cleanUp(originalDf)\n",
    "    print cleanedUp.head(5)\n",
    "    print 'persisting....'\n",
    "    cleanedUp.to_csv('/root/data/mammographic_cleaned.txt',  encoding='utf-8')\n",
    "                         \n",
    "def findMostCommonValue(colName, df):\n",
    "    return df[colName].mode()\n",
    "\n",
    "def cleanUp(inputDf):\n",
    "    for col in inputDf.columns:\n",
    "        mostCommon = findMostCommonValue(col, inputDf)[0]\n",
    "        print 'Most common for %s =%s' % (col, mostCommon)\n",
    "        inputDf[col] = inputDf[col].replace('?', mostCommon)\n",
    "        # converting to numeric\n",
    "        inputDf = inputDf.apply(pd.to_numeric, errors='ignore')\n",
    "    return inputDf\n",
    "\n",
    "\n",
    "\n",
    "def read_as_tf():\n",
    "    filename_queue = tf.train.string_input_producer([\"/root/data/mammographic.txt\"])\n",
    "    reader = tf.TextLineReader(skip_header_lines=1)\n",
    "    _, csv_row = reader.read(filename_queue)\n",
    "    record_defaults = [[0],[0],[0],[0],[0], [0]]\n",
    "    biRadsCol,ageCol,shapeCol,marginCol,densityCol,severityCol = \\\n",
    "                        tf.decode_csv(csv_row, record_defaults)\n",
    "    features = tf.stack([biRadsCol,ageCol,shapeCol,marginCol,densityCol])\n",
    "    \n",
    "    label = tf.stack([severityCol])\n",
    "    return label, features\n",
    "\n",
    "#read_as_pandas_df()\n",
    "#print 'foo'\n",
    "label, features = read_as_tf()\n",
    "\n",
    "\n",
    "\n"
   ]
  },
  {
   "cell_type": "code",
   "execution_count": null,
   "metadata": {
    "collapsed": true
   },
   "outputs": [],
   "source": []
  }
 ],
 "metadata": {
  "kernelspec": {
   "display_name": "Python 2",
   "language": "python",
   "name": "python2"
  },
  "language_info": {
   "codemirror_mode": {
    "name": "ipython",
    "version": 2
   },
   "file_extension": ".py",
   "mimetype": "text/x-python",
   "name": "python",
   "nbconvert_exporter": "python",
   "pygments_lexer": "ipython2",
   "version": "2.7.12"
  }
 },
 "nbformat": 4,
 "nbformat_minor": 2
}
